{
 "cells": [
  {
   "cell_type": "markdown",
   "metadata": {},
   "source": [
    "[<font color='steelblue'>1. - __Imports__</font>](#one-bullet) <br>\n"
   ]
  },
  {
   "cell_type": "markdown",
   "metadata": {},
   "source": [
    "<hr>\n",
    "<a class=\"anchor\" id=\"one-bullet\"> \n",
    "<d style=\"color:white;\">\n",
    "\n",
    "## 1. Imports\n",
    "</a> \n",
    "</d>   "
   ]
  },
  {
   "cell_type": "code",
   "execution_count": 2,
   "metadata": {},
   "outputs": [
    {
     "name": "stdout",
     "output_type": "stream",
     "text": [
      "       1     2     3     4    5    6    7    8    9    10  ...   55   56  57  \\\n",
      "idx                                                        ...                 \n",
      "1       0  5000     0     0  700  700    0    0    0    0  ...  100  100   0   \n",
      "2    5000     0   700   700    0    0  300  300  500  500  ...  100  100   0   \n",
      "3       0   700     0  2000    0    0    0    0  300  300  ...    0    0   0   \n",
      "4       0   700  2000     0    0    0  900  400  300  300  ...    0    0   0   \n",
      "5     700     0     0     0    0    0    0    0    0    0  ...    0    0   0   \n",
      "\n",
      "      58   59   60   61  62  63  64  \n",
      "idx                                  \n",
      "1      0  100  100  100   0   0   0  \n",
      "2    100    0    0    0   0   0   0  \n",
      "3      0    0    0    0   0   0   0  \n",
      "4      0    0    0    0   0   0   0  \n",
      "5      0    0    0    0   0   0   0  \n",
      "\n",
      "[5 rows x 64 columns]\n"
     ]
    }
   ],
   "source": [
    "import pandas as pd\n",
    "\n",
    "# Load the Excel file\n",
    "file_path = 'seating_data.xlsx'\n",
    "\n",
    "# Assuming relationship matrix is on the first sheet\n",
    "df_relationship = pd.read_excel(file_path, sheet_name=0, index_col=0)\n",
    "\n",
    "# Check the data\n",
    "print(df_relationship.head())\n"
   ]
  },
  {
   "cell_type": "code",
   "execution_count": null,
   "metadata": {},
   "outputs": [],
   "source": []
  }
 ],
 "metadata": {
  "kernelspec": {
   "display_name": "base",
   "language": "python",
   "name": "python3"
  },
  "language_info": {
   "codemirror_mode": {
    "name": "ipython",
    "version": 3
   },
   "file_extension": ".py",
   "mimetype": "text/x-python",
   "name": "python",
   "nbconvert_exporter": "python",
   "pygments_lexer": "ipython3",
   "version": "3.12.7"
  }
 },
 "nbformat": 4,
 "nbformat_minor": 2
}
